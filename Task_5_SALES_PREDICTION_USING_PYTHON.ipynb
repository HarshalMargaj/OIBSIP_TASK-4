{
  "nbformat": 4,
  "nbformat_minor": 0,
  "metadata": {
    "colab": {
      "provenance": []
    },
    "kernelspec": {
      "name": "python3",
      "display_name": "Python 3"
    },
    "language_info": {
      "name": "python"
    }
  },
  "cells": [
    {
      "cell_type": "markdown",
      "source": [
        "![1642532597169.jpeg](data:image/jpeg;base64,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)"
      ],
      "metadata": {
        "id": "OpAYe0lYbfgf"
      }
    },
    {
      "cell_type": "markdown",
      "source": [
        "### **Name :** <font color = #5a5a5a>Harshal Prakash Margaj<font/>\n",
        "### **Task 5 :** <font color = #5a5a5a>SALES PREDICTION USING PYTHON<font/>\n",
        "### **Description :** <font color = #5a5a5a>Sales prediction means predicting how much of a product people will buy based on factors such as the amount you spend to advertise your product, the segment of people you advertise for, or the platform you are advertising on about your product. Typically, a product and service-based business always need their Data Scientist to predict their future sales with every step they take to manipulate the cost of advertising their product. So let’s start the task of sales prediction with machine learning using Python. Download dataset from [here](https://www.kaggle.com/datasets/bumba5341/advertisingcsv)<font/>"
      ],
      "metadata": {
        "id": "0cy3sO10bM1u"
      }
    },
    {
      "cell_type": "markdown",
      "source": [
        "# **Import Libraries**"
      ],
      "metadata": {
        "id": "VL1oDffkopRa"
      }
    },
    {
      "cell_type": "code",
      "source": [
        "import numpy as np\n",
        "import pandas as pd\n",
        "import matplotlib.pyplot as plt\n",
        "import seaborn as sns\n",
        "from sklearn.model_selection import train_test_split\n",
        "from sklearn.tree import DecisionTreeRegressor\n",
        "from sklearn.preprocessing import MinMaxScaler\n",
        "from sklearn import metrics"
      ],
      "metadata": {
        "id": "xus5XBeKoo5g"
      },
      "execution_count": null,
      "outputs": []
    },
    {
      "cell_type": "markdown",
      "source": [
        "# **Loading the dataset**"
      ],
      "metadata": {
        "id": "fA3LNN2VPUf2"
      }
    },
    {
      "cell_type": "code",
      "execution_count": null,
      "metadata": {
        "colab": {
          "base_uri": "https://localhost:8080/",
          "height": 228
        },
        "id": "8ifP4JRuojS4",
        "outputId": "9a0ff9bf-d6c7-4a4e-b845-8e2c6a0b31f0"
      },
      "outputs": [
        {
          "output_type": "execute_result",
          "data": {
            "text/plain": [
              "   Unnamed: 0     TV  Radio  Newspaper  Sales\n",
              "0           1  230.1   37.8       69.2   22.1\n",
              "1           2   44.5   39.3       45.1   10.4\n",
              "2           3   17.2   45.9       69.3    9.3\n",
              "3           4  151.5   41.3       58.5   18.5\n",
              "4           5  180.8   10.8       58.4   12.9"
            ],
            "text/html": [
              "\n",
              "  <div id=\"df-4ac6b781-c7e1-4da8-bb7c-a23516b8b3aa\">\n",
              "    <div class=\"colab-df-container\">\n",
              "      <div>\n",
              "<style scoped>\n",
              "    .dataframe tbody tr th:only-of-type {\n",
              "        vertical-align: middle;\n",
              "    }\n",
              "\n",
              "    .dataframe tbody tr th {\n",
              "        vertical-align: top;\n",
              "    }\n",
              "\n",
              "    .dataframe thead th {\n",
              "        text-align: right;\n",
              "    }\n",
              "</style>\n",
              "<table border=\"1\" class=\"dataframe\">\n",
              "  <thead>\n",
              "    <tr style=\"text-align: right;\">\n",
              "      <th></th>\n",
              "      <th>Unnamed: 0</th>\n",
              "      <th>TV</th>\n",
              "      <th>Radio</th>\n",
              "      <th>Newspaper</th>\n",
              "      <th>Sales</th>\n",
              "    </tr>\n",
              "  </thead>\n",
              "  <tbody>\n",
              "    <tr>\n",
              "      <th>0</th>\n",
              "      <td>1</td>\n",
              "      <td>230.1</td>\n",
              "      <td>37.8</td>\n",
              "      <td>69.2</td>\n",
              "      <td>22.1</td>\n",
              "    </tr>\n",
              "    <tr>\n",
              "      <th>1</th>\n",
              "      <td>2</td>\n",
              "      <td>44.5</td>\n",
              "      <td>39.3</td>\n",
              "      <td>45.1</td>\n",
              "      <td>10.4</td>\n",
              "    </tr>\n",
              "    <tr>\n",
              "      <th>2</th>\n",
              "      <td>3</td>\n",
              "      <td>17.2</td>\n",
              "      <td>45.9</td>\n",
              "      <td>69.3</td>\n",
              "      <td>9.3</td>\n",
              "    </tr>\n",
              "    <tr>\n",
              "      <th>3</th>\n",
              "      <td>4</td>\n",
              "      <td>151.5</td>\n",
              "      <td>41.3</td>\n",
              "      <td>58.5</td>\n",
              "      <td>18.5</td>\n",
              "    </tr>\n",
              "    <tr>\n",
              "      <th>4</th>\n",
              "      <td>5</td>\n",
              "      <td>180.8</td>\n",
              "      <td>10.8</td>\n",
              "      <td>58.4</td>\n",
              "      <td>12.9</td>\n",
              "    </tr>\n",
              "  </tbody>\n",
              "</table>\n",
              "</div>\n",
              "      <button class=\"colab-df-convert\" onclick=\"convertToInteractive('df-4ac6b781-c7e1-4da8-bb7c-a23516b8b3aa')\"\n",
              "              title=\"Convert this dataframe to an interactive table.\"\n",
              "              style=\"display:none;\">\n",
              "        \n",
              "  <svg xmlns=\"http://www.w3.org/2000/svg\" height=\"24px\"viewBox=\"0 0 24 24\"\n",
              "       width=\"24px\">\n",
              "    <path d=\"M0 0h24v24H0V0z\" fill=\"none\"/>\n",
              "    <path d=\"M18.56 5.44l.94 2.06.94-2.06 2.06-.94-2.06-.94-.94-2.06-.94 2.06-2.06.94zm-11 1L8.5 8.5l.94-2.06 2.06-.94-2.06-.94L8.5 2.5l-.94 2.06-2.06.94zm10 10l.94 2.06.94-2.06 2.06-.94-2.06-.94-.94-2.06-.94 2.06-2.06.94z\"/><path d=\"M17.41 7.96l-1.37-1.37c-.4-.4-.92-.59-1.43-.59-.52 0-1.04.2-1.43.59L10.3 9.45l-7.72 7.72c-.78.78-.78 2.05 0 2.83L4 21.41c.39.39.9.59 1.41.59.51 0 1.02-.2 1.41-.59l7.78-7.78 2.81-2.81c.8-.78.8-2.07 0-2.86zM5.41 20L4 18.59l7.72-7.72 1.47 1.35L5.41 20z\"/>\n",
              "  </svg>\n",
              "      </button>\n",
              "      \n",
              "  <style>\n",
              "    .colab-df-container {\n",
              "      display:flex;\n",
              "      flex-wrap:wrap;\n",
              "      gap: 12px;\n",
              "    }\n",
              "\n",
              "    .colab-df-convert {\n",
              "      background-color: #E8F0FE;\n",
              "      border: none;\n",
              "      border-radius: 50%;\n",
              "      cursor: pointer;\n",
              "      display: none;\n",
              "      fill: #1967D2;\n",
              "      height: 32px;\n",
              "      padding: 0 0 0 0;\n",
              "      width: 32px;\n",
              "    }\n",
              "\n",
              "    .colab-df-convert:hover {\n",
              "      background-color: #E2EBFA;\n",
              "      box-shadow: 0px 1px 2px rgba(60, 64, 67, 0.3), 0px 1px 3px 1px rgba(60, 64, 67, 0.15);\n",
              "      fill: #174EA6;\n",
              "    }\n",
              "\n",
              "    [theme=dark] .colab-df-convert {\n",
              "      background-color: #3B4455;\n",
              "      fill: #D2E3FC;\n",
              "    }\n",
              "\n",
              "    [theme=dark] .colab-df-convert:hover {\n",
              "      background-color: #434B5C;\n",
              "      box-shadow: 0px 1px 3px 1px rgba(0, 0, 0, 0.15);\n",
              "      filter: drop-shadow(0px 1px 2px rgba(0, 0, 0, 0.3));\n",
              "      fill: #FFFFFF;\n",
              "    }\n",
              "  </style>\n",
              "\n",
              "      <script>\n",
              "        const buttonEl =\n",
              "          document.querySelector('#df-4ac6b781-c7e1-4da8-bb7c-a23516b8b3aa button.colab-df-convert');\n",
              "        buttonEl.style.display =\n",
              "          google.colab.kernel.accessAllowed ? 'block' : 'none';\n",
              "\n",
              "        async function convertToInteractive(key) {\n",
              "          const element = document.querySelector('#df-4ac6b781-c7e1-4da8-bb7c-a23516b8b3aa');\n",
              "          const dataTable =\n",
              "            await google.colab.kernel.invokeFunction('convertToInteractive',\n",
              "                                                     [key], {});\n",
              "          if (!dataTable) return;\n",
              "\n",
              "          const docLinkHtml = 'Like what you see? Visit the ' +\n",
              "            '<a target=\"_blank\" href=https://colab.research.google.com/notebooks/data_table.ipynb>data table notebook</a>'\n",
              "            + ' to learn more about interactive tables.';\n",
              "          element.innerHTML = '';\n",
              "          dataTable['output_type'] = 'display_data';\n",
              "          await google.colab.output.renderOutput(dataTable, element);\n",
              "          const docLink = document.createElement('div');\n",
              "          docLink.innerHTML = docLinkHtml;\n",
              "          element.appendChild(docLink);\n",
              "        }\n",
              "      </script>\n",
              "    </div>\n",
              "  </div>\n",
              "  "
            ]
          },
          "metadata": {},
          "execution_count": 251
        }
      ],
      "source": [
        "df = pd.read_csv('/content/Advertising.csv')\n",
        "df.head()"
      ]
    },
    {
      "cell_type": "markdown",
      "source": [
        "**<font color = #0E86D4>To see last five rows of the dataset<font/>**"
      ],
      "metadata": {
        "id": "_5Wy4PisUa4E"
      }
    },
    {
      "cell_type": "code",
      "source": [
        "df.tail()"
      ],
      "metadata": {
        "colab": {
          "base_uri": "https://localhost:8080/",
          "height": 228
        },
        "id": "I8H-keyBpbrJ",
        "outputId": "a329e732-179f-4c42-9119-e8641d414ce8"
      },
      "execution_count": null,
      "outputs": [
        {
          "output_type": "execute_result",
          "data": {
            "text/plain": [
              "     Unnamed: 0     TV  Radio  Newspaper  Sales\n",
              "195         196   38.2    3.7       13.8    7.6\n",
              "196         197   94.2    4.9        8.1    9.7\n",
              "197         198  177.0    9.3        6.4   12.8\n",
              "198         199  283.6   42.0       66.2   25.5\n",
              "199         200  232.1    8.6        8.7   13.4"
            ],
            "text/html": [
              "\n",
              "  <div id=\"df-86866eca-e9ea-4ceb-bbd7-274e52b62158\">\n",
              "    <div class=\"colab-df-container\">\n",
              "      <div>\n",
              "<style scoped>\n",
              "    .dataframe tbody tr th:only-of-type {\n",
              "        vertical-align: middle;\n",
              "    }\n",
              "\n",
              "    .dataframe tbody tr th {\n",
              "        vertical-align: top;\n",
              "    }\n",
              "\n",
              "    .dataframe thead th {\n",
              "        text-align: right;\n",
              "    }\n",
              "</style>\n",
              "<table border=\"1\" class=\"dataframe\">\n",
              "  <thead>\n",
              "    <tr style=\"text-align: right;\">\n",
              "      <th></th>\n",
              "      <th>Unnamed: 0</th>\n",
              "      <th>TV</th>\n",
              "      <th>Radio</th>\n",
              "      <th>Newspaper</th>\n",
              "      <th>Sales</th>\n",
              "    </tr>\n",
              "  </thead>\n",
              "  <tbody>\n",
              "    <tr>\n",
              "      <th>195</th>\n",
              "      <td>196</td>\n",
              "      <td>38.2</td>\n",
              "      <td>3.7</td>\n",
              "      <td>13.8</td>\n",
              "      <td>7.6</td>\n",
              "    </tr>\n",
              "    <tr>\n",
              "      <th>196</th>\n",
              "      <td>197</td>\n",
              "      <td>94.2</td>\n",
              "      <td>4.9</td>\n",
              "      <td>8.1</td>\n",
              "      <td>9.7</td>\n",
              "    </tr>\n",
              "    <tr>\n",
              "      <th>197</th>\n",
              "      <td>198</td>\n",
              "      <td>177.0</td>\n",
              "      <td>9.3</td>\n",
              "      <td>6.4</td>\n",
              "      <td>12.8</td>\n",
              "    </tr>\n",
              "    <tr>\n",
              "      <th>198</th>\n",
              "      <td>199</td>\n",
              "      <td>283.6</td>\n",
              "      <td>42.0</td>\n",
              "      <td>66.2</td>\n",
              "      <td>25.5</td>\n",
              "    </tr>\n",
              "    <tr>\n",
              "      <th>199</th>\n",
              "      <td>200</td>\n",
              "      <td>232.1</td>\n",
              "      <td>8.6</td>\n",
              "      <td>8.7</td>\n",
              "      <td>13.4</td>\n",
              "    </tr>\n",
              "  </tbody>\n",
              "</table>\n",
              "</div>\n",
              "      <button class=\"colab-df-convert\" onclick=\"convertToInteractive('df-86866eca-e9ea-4ceb-bbd7-274e52b62158')\"\n",
              "              title=\"Convert this dataframe to an interactive table.\"\n",
              "              style=\"display:none;\">\n",
              "        \n",
              "  <svg xmlns=\"http://www.w3.org/2000/svg\" height=\"24px\"viewBox=\"0 0 24 24\"\n",
              "       width=\"24px\">\n",
              "    <path d=\"M0 0h24v24H0V0z\" fill=\"none\"/>\n",
              "    <path d=\"M18.56 5.44l.94 2.06.94-2.06 2.06-.94-2.06-.94-.94-2.06-.94 2.06-2.06.94zm-11 1L8.5 8.5l.94-2.06 2.06-.94-2.06-.94L8.5 2.5l-.94 2.06-2.06.94zm10 10l.94 2.06.94-2.06 2.06-.94-2.06-.94-.94-2.06-.94 2.06-2.06.94z\"/><path d=\"M17.41 7.96l-1.37-1.37c-.4-.4-.92-.59-1.43-.59-.52 0-1.04.2-1.43.59L10.3 9.45l-7.72 7.72c-.78.78-.78 2.05 0 2.83L4 21.41c.39.39.9.59 1.41.59.51 0 1.02-.2 1.41-.59l7.78-7.78 2.81-2.81c.8-.78.8-2.07 0-2.86zM5.41 20L4 18.59l7.72-7.72 1.47 1.35L5.41 20z\"/>\n",
              "  </svg>\n",
              "      </button>\n",
              "      \n",
              "  <style>\n",
              "    .colab-df-container {\n",
              "      display:flex;\n",
              "      flex-wrap:wrap;\n",
              "      gap: 12px;\n",
              "    }\n",
              "\n",
              "    .colab-df-convert {\n",
              "      background-color: #E8F0FE;\n",
              "      border: none;\n",
              "      border-radius: 50%;\n",
              "      cursor: pointer;\n",
              "      display: none;\n",
              "      fill: #1967D2;\n",
              "      height: 32px;\n",
              "      padding: 0 0 0 0;\n",
              "      width: 32px;\n",
              "    }\n",
              "\n",
              "    .colab-df-convert:hover {\n",
              "      background-color: #E2EBFA;\n",
              "      box-shadow: 0px 1px 2px rgba(60, 64, 67, 0.3), 0px 1px 3px 1px rgba(60, 64, 67, 0.15);\n",
              "      fill: #174EA6;\n",
              "    }\n",
              "\n",
              "    [theme=dark] .colab-df-convert {\n",
              "      background-color: #3B4455;\n",
              "      fill: #D2E3FC;\n",
              "    }\n",
              "\n",
              "    [theme=dark] .colab-df-convert:hover {\n",
              "      background-color: #434B5C;\n",
              "      box-shadow: 0px 1px 3px 1px rgba(0, 0, 0, 0.15);\n",
              "      filter: drop-shadow(0px 1px 2px rgba(0, 0, 0, 0.3));\n",
              "      fill: #FFFFFF;\n",
              "    }\n",
              "  </style>\n",
              "\n",
              "      <script>\n",
              "        const buttonEl =\n",
              "          document.querySelector('#df-86866eca-e9ea-4ceb-bbd7-274e52b62158 button.colab-df-convert');\n",
              "        buttonEl.style.display =\n",
              "          google.colab.kernel.accessAllowed ? 'block' : 'none';\n",
              "\n",
              "        async function convertToInteractive(key) {\n",
              "          const element = document.querySelector('#df-86866eca-e9ea-4ceb-bbd7-274e52b62158');\n",
              "          const dataTable =\n",
              "            await google.colab.kernel.invokeFunction('convertToInteractive',\n",
              "                                                     [key], {});\n",
              "          if (!dataTable) return;\n",
              "\n",
              "          const docLinkHtml = 'Like what you see? Visit the ' +\n",
              "            '<a target=\"_blank\" href=https://colab.research.google.com/notebooks/data_table.ipynb>data table notebook</a>'\n",
              "            + ' to learn more about interactive tables.';\n",
              "          element.innerHTML = '';\n",
              "          dataTable['output_type'] = 'display_data';\n",
              "          await google.colab.output.renderOutput(dataTable, element);\n",
              "          const docLink = document.createElement('div');\n",
              "          docLink.innerHTML = docLinkHtml;\n",
              "          element.appendChild(docLink);\n",
              "        }\n",
              "      </script>\n",
              "    </div>\n",
              "  </div>\n",
              "  "
            ]
          },
          "metadata": {},
          "execution_count": 252
        }
      ]
    },
    {
      "cell_type": "markdown",
      "source": [
        "**<font color = #0E86D4>Delete Unnamed: 0 column<font/>**"
      ],
      "metadata": {
        "id": "T0cQQlwwUr-U"
      }
    },
    {
      "cell_type": "code",
      "source": [
        "df = df.drop(columns = ['Unnamed: 0'])"
      ],
      "metadata": {
        "id": "MH5Gxfuv4eqo"
      },
      "execution_count": null,
      "outputs": []
    },
    {
      "cell_type": "markdown",
      "source": [
        "<font color = #0E86D4>**Let's check to see whether this dataset has any null values:**<font/>"
      ],
      "metadata": {
        "id": "ZtfCVMktUlZg"
      }
    },
    {
      "cell_type": "code",
      "source": [
        "df.isnull().sum()"
      ],
      "metadata": {
        "colab": {
          "base_uri": "https://localhost:8080/"
        },
        "id": "AWwtj_ROpj_M",
        "outputId": "c13a616d-6560-46c4-894e-5adb80c3c0b0"
      },
      "execution_count": null,
      "outputs": [
        {
          "output_type": "execute_result",
          "data": {
            "text/plain": [
              "TV           0\n",
              "Radio        0\n",
              "Newspaper    0\n",
              "Sales        0\n",
              "dtype: int64"
            ]
          },
          "metadata": {},
          "execution_count": 254
        }
      ]
    },
    {
      "cell_type": "markdown",
      "source": [
        "**<font color = #0E86D4>To print a concise summary of a DataFrame<font/>**"
      ],
      "metadata": {
        "id": "vVetDVIPUown"
      }
    },
    {
      "cell_type": "code",
      "source": [
        "df.info()"
      ],
      "metadata": {
        "colab": {
          "base_uri": "https://localhost:8080/"
        },
        "id": "KXUn6GfL8zF8",
        "outputId": "c2a9216b-cf97-45b7-e326-dab95720244e"
      },
      "execution_count": null,
      "outputs": [
        {
          "output_type": "stream",
          "name": "stdout",
          "text": [
            "<class 'pandas.core.frame.DataFrame'>\n",
            "RangeIndex: 200 entries, 0 to 199\n",
            "Data columns (total 4 columns):\n",
            " #   Column     Non-Null Count  Dtype  \n",
            "---  ------     --------------  -----  \n",
            " 0   TV         200 non-null    float64\n",
            " 1   Radio      200 non-null    float64\n",
            " 2   Newspaper  200 non-null    float64\n",
            " 3   Sales      200 non-null    float64\n",
            "dtypes: float64(4)\n",
            "memory usage: 6.4 KB\n"
          ]
        }
      ]
    },
    {
      "cell_type": "markdown",
      "source": [
        "**<font color = #0E86D4>To Generate descriptive statistics of dataset<font/>**"
      ],
      "metadata": {
        "id": "QJa6EZy_Ufxq"
      }
    },
    {
      "cell_type": "code",
      "source": [
        "df.describe()"
      ],
      "metadata": {
        "colab": {
          "base_uri": "https://localhost:8080/",
          "height": 323
        },
        "id": "17r1sq6J8uf2",
        "outputId": "2068d93c-b7ff-440c-8ea0-7e98f0e3eb1a"
      },
      "execution_count": null,
      "outputs": [
        {
          "output_type": "execute_result",
          "data": {
            "text/plain": [
              "               TV       Radio   Newspaper       Sales\n",
              "count  200.000000  200.000000  200.000000  200.000000\n",
              "mean   147.042500   23.264000   30.554000   14.022500\n",
              "std     85.854236   14.846809   21.778621    5.217457\n",
              "min      0.700000    0.000000    0.300000    1.600000\n",
              "25%     74.375000    9.975000   12.750000   10.375000\n",
              "50%    149.750000   22.900000   25.750000   12.900000\n",
              "75%    218.825000   36.525000   45.100000   17.400000\n",
              "max    296.400000   49.600000  114.000000   27.000000"
            ],
            "text/html": [
              "\n",
              "  <div id=\"df-721d5085-c61f-49aa-930d-4001667b46f2\">\n",
              "    <div class=\"colab-df-container\">\n",
              "      <div>\n",
              "<style scoped>\n",
              "    .dataframe tbody tr th:only-of-type {\n",
              "        vertical-align: middle;\n",
              "    }\n",
              "\n",
              "    .dataframe tbody tr th {\n",
              "        vertical-align: top;\n",
              "    }\n",
              "\n",
              "    .dataframe thead th {\n",
              "        text-align: right;\n",
              "    }\n",
              "</style>\n",
              "<table border=\"1\" class=\"dataframe\">\n",
              "  <thead>\n",
              "    <tr style=\"text-align: right;\">\n",
              "      <th></th>\n",
              "      <th>TV</th>\n",
              "      <th>Radio</th>\n",
              "      <th>Newspaper</th>\n",
              "      <th>Sales</th>\n",
              "    </tr>\n",
              "  </thead>\n",
              "  <tbody>\n",
              "    <tr>\n",
              "      <th>count</th>\n",
              "      <td>200.000000</td>\n",
              "      <td>200.000000</td>\n",
              "      <td>200.000000</td>\n",
              "      <td>200.000000</td>\n",
              "    </tr>\n",
              "    <tr>\n",
              "      <th>mean</th>\n",
              "      <td>147.042500</td>\n",
              "      <td>23.264000</td>\n",
              "      <td>30.554000</td>\n",
              "      <td>14.022500</td>\n",
              "    </tr>\n",
              "    <tr>\n",
              "      <th>std</th>\n",
              "      <td>85.854236</td>\n",
              "      <td>14.846809</td>\n",
              "      <td>21.778621</td>\n",
              "      <td>5.217457</td>\n",
              "    </tr>\n",
              "    <tr>\n",
              "      <th>min</th>\n",
              "      <td>0.700000</td>\n",
              "      <td>0.000000</td>\n",
              "      <td>0.300000</td>\n",
              "      <td>1.600000</td>\n",
              "    </tr>\n",
              "    <tr>\n",
              "      <th>25%</th>\n",
              "      <td>74.375000</td>\n",
              "      <td>9.975000</td>\n",
              "      <td>12.750000</td>\n",
              "      <td>10.375000</td>\n",
              "    </tr>\n",
              "    <tr>\n",
              "      <th>50%</th>\n",
              "      <td>149.750000</td>\n",
              "      <td>22.900000</td>\n",
              "      <td>25.750000</td>\n",
              "      <td>12.900000</td>\n",
              "    </tr>\n",
              "    <tr>\n",
              "      <th>75%</th>\n",
              "      <td>218.825000</td>\n",
              "      <td>36.525000</td>\n",
              "      <td>45.100000</td>\n",
              "      <td>17.400000</td>\n",
              "    </tr>\n",
              "    <tr>\n",
              "      <th>max</th>\n",
              "      <td>296.400000</td>\n",
              "      <td>49.600000</td>\n",
              "      <td>114.000000</td>\n",
              "      <td>27.000000</td>\n",
              "    </tr>\n",
              "  </tbody>\n",
              "</table>\n",
              "</div>\n",
              "      <button class=\"colab-df-convert\" onclick=\"convertToInteractive('df-721d5085-c61f-49aa-930d-4001667b46f2')\"\n",
              "              title=\"Convert this dataframe to an interactive table.\"\n",
              "              style=\"display:none;\">\n",
              "        \n",
              "  <svg xmlns=\"http://www.w3.org/2000/svg\" height=\"24px\"viewBox=\"0 0 24 24\"\n",
              "       width=\"24px\">\n",
              "    <path d=\"M0 0h24v24H0V0z\" fill=\"none\"/>\n",
              "    <path d=\"M18.56 5.44l.94 2.06.94-2.06 2.06-.94-2.06-.94-.94-2.06-.94 2.06-2.06.94zm-11 1L8.5 8.5l.94-2.06 2.06-.94-2.06-.94L8.5 2.5l-.94 2.06-2.06.94zm10 10l.94 2.06.94-2.06 2.06-.94-2.06-.94-.94-2.06-.94 2.06-2.06.94z\"/><path d=\"M17.41 7.96l-1.37-1.37c-.4-.4-.92-.59-1.43-.59-.52 0-1.04.2-1.43.59L10.3 9.45l-7.72 7.72c-.78.78-.78 2.05 0 2.83L4 21.41c.39.39.9.59 1.41.59.51 0 1.02-.2 1.41-.59l7.78-7.78 2.81-2.81c.8-.78.8-2.07 0-2.86zM5.41 20L4 18.59l7.72-7.72 1.47 1.35L5.41 20z\"/>\n",
              "  </svg>\n",
              "      </button>\n",
              "      \n",
              "  <style>\n",
              "    .colab-df-container {\n",
              "      display:flex;\n",
              "      flex-wrap:wrap;\n",
              "      gap: 12px;\n",
              "    }\n",
              "\n",
              "    .colab-df-convert {\n",
              "      background-color: #E8F0FE;\n",
              "      border: none;\n",
              "      border-radius: 50%;\n",
              "      cursor: pointer;\n",
              "      display: none;\n",
              "      fill: #1967D2;\n",
              "      height: 32px;\n",
              "      padding: 0 0 0 0;\n",
              "      width: 32px;\n",
              "    }\n",
              "\n",
              "    .colab-df-convert:hover {\n",
              "      background-color: #E2EBFA;\n",
              "      box-shadow: 0px 1px 2px rgba(60, 64, 67, 0.3), 0px 1px 3px 1px rgba(60, 64, 67, 0.15);\n",
              "      fill: #174EA6;\n",
              "    }\n",
              "\n",
              "    [theme=dark] .colab-df-convert {\n",
              "      background-color: #3B4455;\n",
              "      fill: #D2E3FC;\n",
              "    }\n",
              "\n",
              "    [theme=dark] .colab-df-convert:hover {\n",
              "      background-color: #434B5C;\n",
              "      box-shadow: 0px 1px 3px 1px rgba(0, 0, 0, 0.15);\n",
              "      filter: drop-shadow(0px 1px 2px rgba(0, 0, 0, 0.3));\n",
              "      fill: #FFFFFF;\n",
              "    }\n",
              "  </style>\n",
              "\n",
              "      <script>\n",
              "        const buttonEl =\n",
              "          document.querySelector('#df-721d5085-c61f-49aa-930d-4001667b46f2 button.colab-df-convert');\n",
              "        buttonEl.style.display =\n",
              "          google.colab.kernel.accessAllowed ? 'block' : 'none';\n",
              "\n",
              "        async function convertToInteractive(key) {\n",
              "          const element = document.querySelector('#df-721d5085-c61f-49aa-930d-4001667b46f2');\n",
              "          const dataTable =\n",
              "            await google.colab.kernel.invokeFunction('convertToInteractive',\n",
              "                                                     [key], {});\n",
              "          if (!dataTable) return;\n",
              "\n",
              "          const docLinkHtml = 'Like what you see? Visit the ' +\n",
              "            '<a target=\"_blank\" href=https://colab.research.google.com/notebooks/data_table.ipynb>data table notebook</a>'\n",
              "            + ' to learn more about interactive tables.';\n",
              "          element.innerHTML = '';\n",
              "          dataTable['output_type'] = 'display_data';\n",
              "          await google.colab.output.renderOutput(dataTable, element);\n",
              "          const docLink = document.createElement('div');\n",
              "          docLink.innerHTML = docLinkHtml;\n",
              "          element.appendChild(docLink);\n",
              "        }\n",
              "      </script>\n",
              "    </div>\n",
              "  </div>\n",
              "  "
            ]
          },
          "metadata": {},
          "execution_count": 256
        }
      ]
    },
    {
      "cell_type": "markdown",
      "source": [
        "# **Distribution of the values of the Sales column:**"
      ],
      "metadata": {
        "id": "6P7csDyt9FNn"
      }
    },
    {
      "cell_type": "code",
      "source": [
        "sns.set_style('whitegrid')\n",
        "plt.figure(figsize=(15, 7))\n",
        "sns.histplot(df.Sales, kde = True, color = 'green')\n",
        "plt.show()"
      ],
      "metadata": {
        "colab": {
          "base_uri": "https://localhost:8080/",
          "height": 462
        },
        "id": "km4UwLwa888e",
        "outputId": "b3204471-e433-48a8-e57c-1d41309fe7f9"
      },
      "execution_count": null,
      "outputs": [
        {
          "output_type": "display_data",
          "data": {
            "text/plain": [
              "<Figure size 1080x504 with 1 Axes>"
            ],
            "image/png": "[encoded data removed]"
          },
          "metadata": {}
        }
      ]
    },
    {
      "cell_type": "markdown",
      "source": [
        "# **Correlation Matrix**"
      ],
      "metadata": {
        "id": "sIhTSgCW50N7"
      }
    },
    {
      "cell_type": "code",
      "source": [
        "df.corr()"
      ],
      "metadata": {
        "id": "giUf5bKKpncF",
        "colab": {
          "base_uri": "https://localhost:8080/",
          "height": 196
        },
        "outputId": "dd393c80-bd9d-4fca-eaf8-878cebdec3c5"
      },
      "execution_count": null,
      "outputs": [
        {
          "output_type": "execute_result",
          "data": {
            "text/plain": [
              "                 TV     Radio  Newspaper     Sales\n",
              "TV         1.000000  0.054809   0.056648  0.782224\n",
              "Radio      0.054809  1.000000   0.354104  0.576223\n",
              "Newspaper  0.056648  0.354104   1.000000  0.228299\n",
              "Sales      0.782224  0.576223   0.228299  1.000000"
            ],
            "text/html": [
              "\n",
              "  <div id=\"df-6e30f292-f054-4554-80e8-a331f39fa979\">\n",
              "    <div class=\"colab-df-container\">\n",
              "      <div>\n",
              "<style scoped>\n",
              "    .dataframe tbody tr th:only-of-type {\n",
              "        vertical-align: middle;\n",
              "    }\n",
              "\n",
              "    .dataframe tbody tr th {\n",
              "        vertical-align: top;\n",
              "    }\n",
              "\n",
              "    .dataframe thead th {\n",
              "        text-align: right;\n",
              "    }\n",
              "</style>\n",
              "<table border=\"1\" class=\"dataframe\">\n",
              "  <thead>\n",
              "    <tr style=\"text-align: right;\">\n",
              "      <th></th>\n",
              "      <th>TV</th>\n",
              "      <th>Radio</th>\n",
              "      <th>Newspaper</th>\n",
              "      <th>Sales</th>\n",
              "    </tr>\n",
              "  </thead>\n",
              "  <tbody>\n",
              "    <tr>\n",
              "      <th>TV</th>\n",
              "      <td>1.000000</td>\n",
              "      <td>0.054809</td>\n",
              "      <td>0.056648</td>\n",
              "      <td>0.782224</td>\n",
              "    </tr>\n",
              "    <tr>\n",
              "      <th>Radio</th>\n",
              "      <td>0.054809</td>\n",
              "      <td>1.000000</td>\n",
              "      <td>0.354104</td>\n",
              "      <td>0.576223</td>\n",
              "    </tr>\n",
              "    <tr>\n",
              "      <th>Newspaper</th>\n",
              "      <td>0.056648</td>\n",
              "      <td>0.354104</td>\n",
              "      <td>1.000000</td>\n",
              "      <td>0.228299</td>\n",
              "    </tr>\n",
              "    <tr>\n",
              "      <th>Sales</th>\n",
              "      <td>0.782224</td>\n",
              "      <td>0.576223</td>\n",
              "      <td>0.228299</td>\n",
              "      <td>1.000000</td>\n",
              "    </tr>\n",
              "  </tbody>\n",
              "</table>\n",
              "</div>\n",
              "      <button class=\"colab-df-convert\" onclick=\"convertToInteractive('df-6e30f292-f054-4554-80e8-a331f39fa979')\"\n",
              "              title=\"Convert this dataframe to an interactive table.\"\n",
              "              style=\"display:none;\">\n",
              "        \n",
              "  <svg xmlns=\"http://www.w3.org/2000/svg\" height=\"24px\"viewBox=\"0 0 24 24\"\n",
              "       width=\"24px\">\n",
              "    <path d=\"M0 0h24v24H0V0z\" fill=\"none\"/>\n",
              "    <path d=\"M18.56 5.44l.94 2.06.94-2.06 2.06-.94-2.06-.94-.94-2.06-.94 2.06-2.06.94zm-11 1L8.5 8.5l.94-2.06 2.06-.94-2.06-.94L8.5 2.5l-.94 2.06-2.06.94zm10 10l.94 2.06.94-2.06 2.06-.94-2.06-.94-.94-2.06-.94 2.06-2.06.94z\"/><path d=\"M17.41 7.96l-1.37-1.37c-.4-.4-.92-.59-1.43-.59-.52 0-1.04.2-1.43.59L10.3 9.45l-7.72 7.72c-.78.78-.78 2.05 0 2.83L4 21.41c.39.39.9.59 1.41.59.51 0 1.02-.2 1.41-.59l7.78-7.78 2.81-2.81c.8-.78.8-2.07 0-2.86zM5.41 20L4 18.59l7.72-7.72 1.47 1.35L5.41 20z\"/>\n",
              "  </svg>\n",
              "      </button>\n",
              "      \n",
              "  <style>\n",
              "    .colab-df-container {\n",
              "      display:flex;\n",
              "      flex-wrap:wrap;\n",
              "      gap: 12px;\n",
              "    }\n",
              "\n",
              "    .colab-df-convert {\n",
              "      background-color: #E8F0FE;\n",
              "      border: none;\n",
              "      border-radius: 50%;\n",
              "      cursor: pointer;\n",
              "      display: none;\n",
              "      fill: #1967D2;\n",
              "      height: 32px;\n",
              "      padding: 0 0 0 0;\n",
              "      width: 32px;\n",
              "    }\n",
              "\n",
              "    .colab-df-convert:hover {\n",
              "      background-color: #E2EBFA;\n",
              "      box-shadow: 0px 1px 2px rgba(60, 64, 67, 0.3), 0px 1px 3px 1px rgba(60, 64, 67, 0.15);\n",
              "      fill: #174EA6;\n",
              "    }\n",
              "\n",
              "    [theme=dark] .colab-df-convert {\n",
              "      background-color: #3B4455;\n",
              "      fill: #D2E3FC;\n",
              "    }\n",
              "\n",
              "    [theme=dark] .colab-df-convert:hover {\n",
              "      background-color: #434B5C;\n",
              "      box-shadow: 0px 1px 3px 1px rgba(0, 0, 0, 0.15);\n",
              "      filter: drop-shadow(0px 1px 2px rgba(0, 0, 0, 0.3));\n",
              "      fill: #FFFFFF;\n",
              "    }\n",
              "  </style>\n",
              "\n",
              "      <script>\n",
              "        const buttonEl =\n",
              "          document.querySelector('#df-6e30f292-f054-4554-80e8-a331f39fa979 button.colab-df-convert');\n",
              "        buttonEl.style.display =\n",
              "          google.colab.kernel.accessAllowed ? 'block' : 'none';\n",
              "\n",
              "        async function convertToInteractive(key) {\n",
              "          const element = document.querySelector('#df-6e30f292-f054-4554-80e8-a331f39fa979');\n",
              "          const dataTable =\n",
              "            await google.colab.kernel.invokeFunction('convertToInteractive',\n",
              "                                                     [key], {});\n",
              "          if (!dataTable) return;\n",
              "\n",
              "          const docLinkHtml = 'Like what you see? Visit the ' +\n",
              "            '<a target=\"_blank\" href=https://colab.research.google.com/notebooks/data_table.ipynb>data table notebook</a>'\n",
              "            + ' to learn more about interactive tables.';\n",
              "          element.innerHTML = '';\n",
              "          dataTable['output_type'] = 'display_data';\n",
              "          await google.colab.output.renderOutput(dataTable, element);\n",
              "          const docLink = document.createElement('div');\n",
              "          docLink.innerHTML = docLinkHtml;\n",
              "          element.appendChild(docLink);\n",
              "        }\n",
              "      </script>\n",
              "    </div>\n",
              "  </div>\n",
              "  "
            ]
          },
          "metadata": {},
          "execution_count": 258
        }
      ]
    },
    {
      "cell_type": "code",
      "source": [
        "corr = df.corr()\n",
        "plt.figure(figsize = (6, 5))\n",
        "sns.heatmap(corr, annot = True, cmap = 'coolwarm')\n",
        "plt.show()"
      ],
      "metadata": {
        "colab": {
          "base_uri": "https://localhost:8080/",
          "height": 344
        },
        "id": "U8VsJm7Z5RLL",
        "outputId": "9c393a57-cfe7-4092-bbe4-d73744276c12"
      },
      "execution_count": null,
      "outputs": [
        {
          "output_type": "display_data",
          "data": {
            "text/plain": [
              "<Figure size 432x360 with 2 Axes>"
            ],
            "image/png": "[encoded data removed]"
          },
          "metadata": {}
        }
      ]
    },
    {
      "cell_type": "markdown",
      "source": [
        "# **Splitting the dataset into training and testing**"
      ],
      "metadata": {
        "id": "hiBhXLpz6OL8"
      }
    },
    {
      "cell_type": "code",
      "source": [
        "x = np.array(df.drop(['Sales'], axis = 1))\n",
        "y = np.array(df['Sales'])\n",
        "\n",
        "x_train, x_test, y_train, y_test = train_test_split(x, y, test_size = 0.2)"
      ],
      "metadata": {
        "id": "9Nk4wHVd5aBq"
      },
      "execution_count": null,
      "outputs": []
    },
    {
      "cell_type": "markdown",
      "source": [
        "# **Scaling out data**"
      ],
      "metadata": {
        "id": "45LClFWfVYGB"
      }
    },
    {
      "cell_type": "code",
      "source": [
        "scaler = MinMaxScaler()\n",
        "x_train = scaler.fit_transform(x_train)\n",
        "x_test = scaler.transform(x_test)"
      ],
      "metadata": {
        "id": "vve1Hr7rKjLr"
      },
      "execution_count": null,
      "outputs": []
    },
    {
      "cell_type": "markdown",
      "source": [
        "# **Training a Sales Prediction Model**"
      ],
      "metadata": {
        "id": "YA7G14iY8LW1"
      }
    },
    {
      "cell_type": "code",
      "source": [
        "model = DecisionTreeRegressor()\n",
        "model.fit(x_train, y_train)\n",
        "predictions = model.predict(x_test)\n",
        "print(predictions)"
      ],
      "metadata": {
        "colab": {
          "base_uri": "https://localhost:8080/"
        },
        "id": "dSuDckvZIC9P",
        "outputId": "f236dc5b-ade4-429c-8feb-e3db4e0a6306"
      },
      "execution_count": null,
      "outputs": [
        {
          "output_type": "stream",
          "name": "stdout",
          "text": [
            "[ 9.5 14.9  9.3  9.7 14.2 11.9  5.6 21.7 25.4 18.5  6.6 13.4  6.6 13.2\n",
            " 17.1 13.4 15.3 11.6 17.3 11.9 12.2  5.6 14.8 15.3  5.5 15.5 11.5 12.7\n",
            " 10.4 11.4 11.2 21.7  5.5 18.4 10.1 11.9 15.9 21.8 13.6 17.1]\n"
          ]
        }
      ]
    },
    {
      "cell_type": "markdown",
      "source": [
        "# **Evaluate the model**"
      ],
      "metadata": {
        "id": "oRtfCc_lOn0P"
      }
    },
    {
      "cell_type": "code",
      "source": [
        "print(f\"Accuracy:  {model.score(x_test, predictions) * 100}\")\n",
        "print(f\"R Squared Error: {round(metrics.r2_score(y_test, predictions)*100, 2)}\")\n",
        "print(f'Mean Absolute Error : {metrics.mean_absolute_error(y_test, predictions)}')\n",
        "print(f'Mean Squared Error : {metrics.mean_squared_error(y_test, predictions)}')\n",
        "print(f'Root Mean Square Error : {np.sqrt(metrics.mean_squared_error(y_test, predictions))}')"
      ],
      "metadata": {
        "colab": {
          "base_uri": "https://localhost:8080/"
        },
        "id": "ajoW0iIWNSG9",
        "outputId": "79ca7fc7-3a8f-43b3-88db-9b0d587bba7b"
      },
      "execution_count": null,
      "outputs": [
        {
          "output_type": "stream",
          "name": "stdout",
          "text": [
            "Accuracy:  100.0\n",
            "R Squared Error: 94.68\n",
            "Mean Absolute Error : 0.9149999999999998\n",
            "Mean Squared Error : 1.456\n",
            "Root Mean Square Error : 1.2066482503198686\n"
          ]
        }
      ]
    },
    {
      "cell_type": "markdown",
      "source": [
        "# **Plotting Actual and Predicted Sales**"
      ],
      "metadata": {
        "id": "XpJz900fOt5a"
      }
    },
    {
      "cell_type": "code",
      "source": [
        "plt.figure(figsize = (10, 5))\n",
        "plt.scatter(y_test, predictions, color = 'green')\n",
        "plt.xlabel('Actual Sales')\n",
        "plt.ylabel('Predicted Sales')\n",
        "plt.title('Actual Sales vs Predicted Sales')\n",
        "plt.show()"
      ],
      "metadata": {
        "colab": {
          "base_uri": "https://localhost:8080/",
          "height": 370
        },
        "id": "IikSQVB4NbI0",
        "outputId": "ee8ad27c-0026-45ac-8502-e5eebb98ec5c"
      },
      "execution_count": null,
      "outputs": [
        {
          "output_type": "display_data",
          "data": {
            "text/plain": [
              "<Figure size 720x360 with 1 Axes>"
            ],
            "image/png": "[encoded data removed]"
          },
          "metadata": {}
        }
      ]
    },
    {
      "cell_type": "markdown",
      "source": [
        "# **Prediction - I have tried our model with some example data**"
      ],
      "metadata": {
        "id": "p1aZ5kGfNvYA"
      }
    },
    {
      "cell_type": "code",
      "source": [
        "def prediction(input_data):\n",
        "  # Input data\n",
        "  data = df.drop('Sales', axis=1).iloc[input_data]\n",
        "\n",
        "  # Scaling input data\n",
        "  # x_train.shape (3, )\n",
        "  data_scaler = scaler.transform(data.values.reshape(-1, 3))\n",
        "\n",
        "  # Predict the Input data\n",
        "  prediction = model.predict(data_scaler)\n",
        "\n",
        "  # Predicted Sales of Input data\n",
        "  print(f\"Predicted Sales : {prediction[0]}\")\n",
        "\n",
        "  print()\n",
        "\n",
        "  # Actual Sales of Input data\n",
        "  actual_sales = df.iloc[input_data].Sales\n",
        "  print(f\"Actual Sales    : {actual_sales}\")\n",
        "\n",
        "prediction(15)"
      ],
      "metadata": {
        "colab": {
          "base_uri": "https://localhost:8080/"
        },
        "id": "DVv1HM-0IFeO",
        "outputId": "aa675693-03f5-49dc-8be1-4b4b11af2974"
      },
      "execution_count": null,
      "outputs": [
        {
          "output_type": "stream",
          "name": "stdout",
          "text": [
            "Predicted Sales : 22.4\n",
            "\n",
            "Actual Sales    : 22.4\n"
          ]
        }
      ]
    },
    {
      "cell_type": "markdown",
      "source": [
        "**<font color = #5a5a5a>I have used DecisionTreeRegressor Algorithm/Model for prediction and I have tried our model with some example data. So you can see that the Actual Sales are 22.4, but when we tested on our model, our model predicted 22.4, it means our prediction was successful and our model is working properly.<font/>**"
      ],
      "metadata": {
        "id": "cGQI3G8ocCj3"
      }
    },
    {
      "cell_type": "markdown",
      "source": [
        "# <center>**Thank You!**<center/>"
      ],
      "metadata": {
        "id": "9n2ItygMXqS-"
      }
    }
  ]
}